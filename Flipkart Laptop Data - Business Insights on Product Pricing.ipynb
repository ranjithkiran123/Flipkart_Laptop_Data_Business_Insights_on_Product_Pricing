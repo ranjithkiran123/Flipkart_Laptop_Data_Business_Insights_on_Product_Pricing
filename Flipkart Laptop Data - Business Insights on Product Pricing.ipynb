{
 "cells": [
  {
   "cell_type": "code",
   "execution_count": 3,
   "id": "a5f9d6e8",
   "metadata": {},
   "outputs": [],
   "source": [
    "import numpy as np\n",
    "import pandas as pd\n",
    "import matplotlib.pyplot as plt\n",
    "import seaborn as sns\n",
    "\n",
    "from scipy import stats\n",
    "from scipy.stats import boxcox\n",
    "\n",
    "import re\n",
    "\n",
    "import plotly.express as px\n",
    "\n",
    "from sklearn.model_selection import train_test_split\n",
    "from sklearn.compose import ColumnTransformer\n",
    "from sklearn.pipeline import Pipeline\n",
    "from sklearn.preprocessing import OneHotEncoder\n",
    "from sklearn.metrics import r2_score,mean_absolute_error\n",
    "\n",
    "from sklearn.linear_model import LinearRegression,Ridge,Lasso\n",
    "from sklearn.neighbors import KNeighborsRegressor\n",
    "from sklearn.tree import DecisionTreeRegressor\n",
    "from sklearn.ensemble import RandomForestRegressor,GradientBoostingRegressor,AdaBoostRegressor,ExtraTreesRegressor\n",
    "from sklearn.svm import SVR\n",
    "from xgboost import XGBRegressor\n",
    "\n",
    "import warnings\n",
    "warnings.filterwarnings(\"ignore\")"
   ]
  },
  {
   "cell_type": "code",
   "execution_count": 2,
   "id": "4201bf65",
   "metadata": {},
   "outputs": [
    {
     "name": "stdout",
     "output_type": "stream",
     "text": [
      "Collecting xgboost\n",
      "  Downloading xgboost-1.7.5-py3-none-win_amd64.whl (70.9 MB)\n",
      "     ---------------------------------------- 70.9/70.9 MB 3.1 MB/s eta 0:00:00\n",
      "Requirement already satisfied: numpy in c:\\users\\a.ranjith kiran\\anaconda3\\lib\\site-packages (from xgboost) (1.23.5)\n",
      "Requirement already satisfied: scipy in c:\\users\\a.ranjith kiran\\anaconda3\\lib\\site-packages (from xgboost) (1.10.0)\n",
      "Installing collected packages: xgboost\n",
      "Successfully installed xgboost-1.7.5\n",
      "Note: you may need to restart the kernel to use updated packages.\n"
     ]
    }
   ],
   "source": [
    "pip install xgboost"
   ]
  },
  {
   "cell_type": "code",
   "execution_count": 4,
   "id": "f30c82ff",
   "metadata": {},
   "outputs": [],
   "source": [
    "df = pd.read_csv(r\"C:\\Users\\A.Ranjith Kiran\\Downloads\\laptop_details.csv\")"
   ]
  },
  {
   "cell_type": "code",
   "execution_count": 5,
   "id": "2f0ebf57",
   "metadata": {},
   "outputs": [
    {
     "data": {
      "text/html": [
       "<div>\n",
       "<style scoped>\n",
       "    .dataframe tbody tr th:only-of-type {\n",
       "        vertical-align: middle;\n",
       "    }\n",
       "\n",
       "    .dataframe tbody tr th {\n",
       "        vertical-align: top;\n",
       "    }\n",
       "\n",
       "    .dataframe thead th {\n",
       "        text-align: right;\n",
       "    }\n",
       "</style>\n",
       "<table border=\"1\" class=\"dataframe\">\n",
       "  <thead>\n",
       "    <tr style=\"text-align: right;\">\n",
       "      <th></th>\n",
       "      <th>Product</th>\n",
       "      <th>Rating</th>\n",
       "      <th>MRP</th>\n",
       "      <th>Feature</th>\n",
       "    </tr>\n",
       "  </thead>\n",
       "  <tbody>\n",
       "    <tr>\n",
       "      <th>0</th>\n",
       "      <td>Lenovo IdeaPad 3 Core i3 11th Gen - (8 GB/256 ...</td>\n",
       "      <td>4.2</td>\n",
       "      <td>₹36,990</td>\n",
       "      <td>Intel Core i3 Processor (11th Gen)8 GB DDR4 RA...</td>\n",
       "    </tr>\n",
       "    <tr>\n",
       "      <th>1</th>\n",
       "      <td>Lenovo IdeaPad 3 Core i3 11th Gen - (8 GB/512 ...</td>\n",
       "      <td>4.2</td>\n",
       "      <td>₹39,990</td>\n",
       "      <td>Intel Core i3 Processor (11th Gen)8 GB DDR4 RA...</td>\n",
       "    </tr>\n",
       "    <tr>\n",
       "      <th>2</th>\n",
       "      <td>ASUS VivoBook 15 (2022) Core i3 10th Gen - (8 ...</td>\n",
       "      <td>4.3</td>\n",
       "      <td>₹32,990</td>\n",
       "      <td>Intel Core i3 Processor (10th Gen)8 GB DDR4 RA...</td>\n",
       "    </tr>\n",
       "    <tr>\n",
       "      <th>3</th>\n",
       "      <td>HP Pavilion Ryzen 5 Hexa Core AMD R5-5600H - (...</td>\n",
       "      <td>4.4</td>\n",
       "      <td>₹49,990</td>\n",
       "      <td>AMD Ryzen 5 Hexa Core Processor8 GB DDR4 RAM64...</td>\n",
       "    </tr>\n",
       "    <tr>\n",
       "      <th>4</th>\n",
       "      <td>ASUS TUF Gaming F15 Core i5 10th Gen - (8 GB/5...</td>\n",
       "      <td>4.4</td>\n",
       "      <td>₹49,990</td>\n",
       "      <td>Intel Core i5 Processor (10th Gen)8 GB DDR4 RA...</td>\n",
       "    </tr>\n",
       "  </tbody>\n",
       "</table>\n",
       "</div>"
      ],
      "text/plain": [
       "                                             Product  Rating      MRP   \n",
       "0  Lenovo IdeaPad 3 Core i3 11th Gen - (8 GB/256 ...     4.2  ₹36,990  \\\n",
       "1  Lenovo IdeaPad 3 Core i3 11th Gen - (8 GB/512 ...     4.2  ₹39,990   \n",
       "2  ASUS VivoBook 15 (2022) Core i3 10th Gen - (8 ...     4.3  ₹32,990   \n",
       "3  HP Pavilion Ryzen 5 Hexa Core AMD R5-5600H - (...     4.4  ₹49,990   \n",
       "4  ASUS TUF Gaming F15 Core i5 10th Gen - (8 GB/5...     4.4  ₹49,990   \n",
       "\n",
       "                                             Feature  \n",
       "0  Intel Core i3 Processor (11th Gen)8 GB DDR4 RA...  \n",
       "1  Intel Core i3 Processor (11th Gen)8 GB DDR4 RA...  \n",
       "2  Intel Core i3 Processor (10th Gen)8 GB DDR4 RA...  \n",
       "3  AMD Ryzen 5 Hexa Core Processor8 GB DDR4 RAM64...  \n",
       "4  Intel Core i5 Processor (10th Gen)8 GB DDR4 RA...  "
      ]
     },
     "execution_count": 5,
     "metadata": {},
     "output_type": "execute_result"
    }
   ],
   "source": [
    "df.head()"
   ]
  },
  {
   "cell_type": "code",
   "execution_count": 6,
   "id": "9d9c0e90",
   "metadata": {},
   "outputs": [
    {
     "data": {
      "text/plain": [
       "(720, 4)"
      ]
     },
     "execution_count": 6,
     "metadata": {},
     "output_type": "execute_result"
    }
   ],
   "source": [
    "df.shape"
   ]
  },
  {
   "cell_type": "code",
   "execution_count": 7,
   "id": "7beec0f6",
   "metadata": {},
   "outputs": [
    {
     "name": "stdout",
     "output_type": "stream",
     "text": [
      "<class 'pandas.core.frame.DataFrame'>\n",
      "RangeIndex: 720 entries, 0 to 719\n",
      "Data columns (total 4 columns):\n",
      " #   Column   Non-Null Count  Dtype  \n",
      "---  ------   --------------  -----  \n",
      " 0   Product  720 non-null    object \n",
      " 1   Rating   581 non-null    float64\n",
      " 2   MRP      720 non-null    object \n",
      " 3   Feature  720 non-null    object \n",
      "dtypes: float64(1), object(3)\n",
      "memory usage: 22.6+ KB\n"
     ]
    }
   ],
   "source": [
    "df.info()"
   ]
  },
  {
   "cell_type": "code",
   "execution_count": 8,
   "id": "b211bfc0",
   "metadata": {},
   "outputs": [
    {
     "data": {
      "text/plain": [
       "Index(['Product', 'Rating', 'MRP', 'Feature'], dtype='object')"
      ]
     },
     "execution_count": 8,
     "metadata": {},
     "output_type": "execute_result"
    }
   ],
   "source": [
    "df.columns"
   ]
  },
  {
   "cell_type": "code",
   "execution_count": 9,
   "id": "7ffc702e",
   "metadata": {},
   "outputs": [
    {
     "data": {
      "text/html": [
       "<div>\n",
       "<style scoped>\n",
       "    .dataframe tbody tr th:only-of-type {\n",
       "        vertical-align: middle;\n",
       "    }\n",
       "\n",
       "    .dataframe tbody tr th {\n",
       "        vertical-align: top;\n",
       "    }\n",
       "\n",
       "    .dataframe thead th {\n",
       "        text-align: right;\n",
       "    }\n",
       "</style>\n",
       "<table border=\"1\" class=\"dataframe\">\n",
       "  <thead>\n",
       "    <tr style=\"text-align: right;\">\n",
       "      <th></th>\n",
       "      <th>count</th>\n",
       "      <th>mean</th>\n",
       "      <th>std</th>\n",
       "      <th>min</th>\n",
       "      <th>25%</th>\n",
       "      <th>50%</th>\n",
       "      <th>75%</th>\n",
       "      <th>max</th>\n",
       "    </tr>\n",
       "  </thead>\n",
       "  <tbody>\n",
       "    <tr>\n",
       "      <th>Rating</th>\n",
       "      <td>581.0</td>\n",
       "      <td>4.32117</td>\n",
       "      <td>0.282872</td>\n",
       "      <td>3.0</td>\n",
       "      <td>4.2</td>\n",
       "      <td>4.3</td>\n",
       "      <td>4.5</td>\n",
       "      <td>5.0</td>\n",
       "    </tr>\n",
       "  </tbody>\n",
       "</table>\n",
       "</div>"
      ],
      "text/plain": [
       "        count     mean       std  min  25%  50%  75%  max\n",
       "Rating  581.0  4.32117  0.282872  3.0  4.2  4.3  4.5  5.0"
      ]
     },
     "execution_count": 9,
     "metadata": {},
     "output_type": "execute_result"
    }
   ],
   "source": [
    "df.describe().T"
   ]
  },
  {
   "cell_type": "code",
   "execution_count": 10,
   "id": "16e6fc85",
   "metadata": {},
   "outputs": [
    {
     "data": {
      "text/plain": [
       "Product      0\n",
       "Rating     139\n",
       "MRP          0\n",
       "Feature      0\n",
       "dtype: int64"
      ]
     },
     "execution_count": 10,
     "metadata": {},
     "output_type": "execute_result"
    }
   ],
   "source": [
    "df.isnull().sum()"
   ]
  },
  {
   "cell_type": "code",
   "execution_count": 11,
   "id": "01dbcd11",
   "metadata": {},
   "outputs": [
    {
     "data": {
      "text/plain": [
       "297"
      ]
     },
     "execution_count": 11,
     "metadata": {},
     "output_type": "execute_result"
    }
   ],
   "source": [
    "df.duplicated().sum()"
   ]
  },
  {
   "cell_type": "code",
   "execution_count": 20,
   "id": "02e61c12",
   "metadata": {},
   "outputs": [
    {
     "data": {
      "text/plain": [
       "0    ₹36,990\n",
       "1    ₹39,990\n",
       "2    ₹32,990\n",
       "3    ₹49,990\n",
       "4    ₹49,990\n",
       "Name: MRP, dtype: object"
      ]
     },
     "execution_count": 20,
     "metadata": {},
     "output_type": "execute_result"
    }
   ],
   "source": [
    "df.MRP.head()"
   ]
  },
  {
   "cell_type": "code",
   "execution_count": 23,
   "id": "ede0cb3a",
   "metadata": {},
   "outputs": [],
   "source": [
    "df['MRP'] = df['MRP'].str.replace('₹','')\n",
    "df['MRP'] = df['MRP'].str.replace(',','').astype('float32')"
   ]
  },
  {
   "cell_type": "code",
   "execution_count": 24,
   "id": "480a8b56",
   "metadata": {},
   "outputs": [
    {
     "data": {
      "image/png": "[encoded data removed]",
      "text/plain": [
       "<Figure size 800x600 with 1 Axes>"
      ]
     },
     "metadata": {},
     "output_type": "display_data"
    }
   ],
   "source": [
    "df.MRP.plot(kind='kde', figsize=(8,6))\n",
    "plt.show()"
   ]
  },
  {
   "cell_type": "code",
   "execution_count": 25,
   "id": "70596c82",
   "metadata": {},
   "outputs": [
    {
     "data": {
      "image/png": "[encoded data removed]",
      "text/plain": [
       "<Figure size 800x600 with 1 Axes>"
      ]
     },
     "metadata": {},
     "output_type": "display_data"
    }
   ],
   "source": [
    "df.MRP.plot(kind='box', figsize=(8,6))\n",
    "plt.show()"
   ]
  },
  {
   "cell_type": "code",
   "execution_count": 28,
   "id": "d06189c6",
   "metadata": {},
   "outputs": [
    {
     "data": {
      "image/png": "[encoded data removed]",
      "text/plain": [
       "<Figure size 640x480 with 1 Axes>"
      ]
     },
     "metadata": {},
     "output_type": "display_data"
    }
   ],
   "source": [
    "log = df.MRP.apply(np.log1p)\n",
    "sns.distplot(log)\n",
    "plt.show()"
   ]
  },
  {
   "cell_type": "code",
   "execution_count": 29,
   "id": "e039a56c",
   "metadata": {},
   "outputs": [
    {
     "data": {
      "image/png": "[encoded data removed]",
      "text/plain": [
       "<Figure size 640x480 with 1 Axes>"
      ]
     },
     "metadata": {},
     "output_type": "display_data"
    }
   ],
   "source": [
    "log.plot(kind='box')\n",
    "plt.show()"
   ]
  },
  {
   "cell_type": "code",
   "execution_count": 30,
   "id": "f9013d28",
   "metadata": {},
   "outputs": [],
   "source": [
    "percentile25 = df.MRP.quantile(0.25)\n",
    "percentile75 = df.MRP.quantile(0.75)"
   ]
  },
  {
   "cell_type": "code",
   "execution_count": 32,
   "id": "9246061f",
   "metadata": {},
   "outputs": [
    {
     "data": {
      "text/plain": [
       "38996.75"
      ]
     },
     "execution_count": 32,
     "metadata": {},
     "output_type": "execute_result"
    }
   ],
   "source": [
    "percentile25"
   ]
  },
  {
   "cell_type": "code",
   "execution_count": 33,
   "id": "145157a5",
   "metadata": {},
   "outputs": [
    {
     "data": {
      "text/plain": [
       "95240.0"
      ]
     },
     "execution_count": 33,
     "metadata": {},
     "output_type": "execute_result"
    }
   ],
   "source": [
    "percentile75"
   ]
  },
  {
   "cell_type": "code",
   "execution_count": 34,
   "id": "37c88b73",
   "metadata": {},
   "outputs": [
    {
     "data": {
      "text/plain": [
       "56243.25"
      ]
     },
     "execution_count": 34,
     "metadata": {},
     "output_type": "execute_result"
    }
   ],
   "source": [
    "iqr = percentile75 - percentile25\n",
    "iqr"
   ]
  },
  {
   "cell_type": "code",
   "execution_count": 35,
   "id": "b22496c0",
   "metadata": {},
   "outputs": [],
   "source": [
    "X=df.drop(columns=['MRP'],axis=1)\n",
    "Y= np.log(df['MRP'])"
   ]
  },
  {
   "cell_type": "code",
   "execution_count": 36,
   "id": "f3644866",
   "metadata": {},
   "outputs": [
    {
     "data": {
      "text/plain": [
       "Product      0\n",
       "Rating     139\n",
       "Feature      0\n",
       "dtype: int64"
      ]
     },
     "execution_count": 36,
     "metadata": {},
     "output_type": "execute_result"
    }
   ],
   "source": [
    "X.isnull().sum()"
   ]
  },
  {
   "cell_type": "code",
   "execution_count": 48,
   "id": "d815ce97",
   "metadata": {},
   "outputs": [],
   "source": [
    "temp1 = df['Product'].str.split('GB', n=3, expand=True)"
   ]
  },
  {
   "cell_type": "code",
   "execution_count": 49,
   "id": "de3f91fa",
   "metadata": {},
   "outputs": [
    {
     "data": {
      "text/html": [
       "<div>\n",
       "<style scoped>\n",
       "    .dataframe tbody tr th:only-of-type {\n",
       "        vertical-align: middle;\n",
       "    }\n",
       "\n",
       "    .dataframe tbody tr th {\n",
       "        vertical-align: top;\n",
       "    }\n",
       "\n",
       "    .dataframe thead th {\n",
       "        text-align: right;\n",
       "    }\n",
       "</style>\n",
       "<table border=\"1\" class=\"dataframe\">\n",
       "  <thead>\n",
       "    <tr style=\"text-align: right;\">\n",
       "      <th></th>\n",
       "      <th>0</th>\n",
       "      <th>1</th>\n",
       "      <th>2</th>\n",
       "      <th>3</th>\n",
       "    </tr>\n",
       "  </thead>\n",
       "  <tbody>\n",
       "    <tr>\n",
       "      <th>0</th>\n",
       "      <td>Lenovo IdeaPad 3 Core i3 11th Gen - (8</td>\n",
       "      <td>/256</td>\n",
       "      <td>SSD/Windows 11 Home) 14ITL05 Thin and Light L...</td>\n",
       "      <td>None</td>\n",
       "    </tr>\n",
       "    <tr>\n",
       "      <th>1</th>\n",
       "      <td>Lenovo IdeaPad 3 Core i3 11th Gen - (8</td>\n",
       "      <td>/512</td>\n",
       "      <td>SSD/Windows 11 Home) 82H801L7IN | 82H802FJIN ...</td>\n",
       "      <td>None</td>\n",
       "    </tr>\n",
       "    <tr>\n",
       "      <th>2</th>\n",
       "      <td>ASUS VivoBook 15 (2022) Core i3 10th Gen - (8</td>\n",
       "      <td>/512</td>\n",
       "      <td>SSD/Windows 11 Home) X515JA-EJ362WS | X515JA-...</td>\n",
       "      <td>None</td>\n",
       "    </tr>\n",
       "    <tr>\n",
       "      <th>3</th>\n",
       "      <td>HP Pavilion Ryzen 5 Hexa Core AMD R5-5600H - (8</td>\n",
       "      <td>/512</td>\n",
       "      <td>SSD/Windows 10/4</td>\n",
       "      <td>Graphics/NVIDIA GeForce ...</td>\n",
       "    </tr>\n",
       "    <tr>\n",
       "      <th>4</th>\n",
       "      <td>ASUS TUF Gaming F15 Core i5 10th Gen - (8</td>\n",
       "      <td>/512</td>\n",
       "      <td>SSD/Windows 11 Home/4</td>\n",
       "      <td>Graphics/NVIDIA GeForce G...</td>\n",
       "    </tr>\n",
       "    <tr>\n",
       "      <th>...</th>\n",
       "      <td>...</td>\n",
       "      <td>...</td>\n",
       "      <td>...</td>\n",
       "      <td>...</td>\n",
       "    </tr>\n",
       "    <tr>\n",
       "      <th>715</th>\n",
       "      <td>ASUS Chromebook Flip Touch Celeron Dual Core -...</td>\n",
       "      <td>/64</td>\n",
       "      <td>EMMC Storage/Chrome OS) C214MA-BU0452 Chrom...</td>\n",
       "      <td>None</td>\n",
       "    </tr>\n",
       "    <tr>\n",
       "      <th>716</th>\n",
       "      <td>Lenovo IdeaPad Gaming 3 Ryzen 7 Octa Core AMD ...</td>\n",
       "      <td>/512</td>\n",
       "      <td>SSD/Windows 11 Home/4</td>\n",
       "      <td>Graphic...</td>\n",
       "    </tr>\n",
       "    <tr>\n",
       "      <th>717</th>\n",
       "      <td>ASUS ROG Zephyrus G15 Ryzen 9 Octa Core 6900HS...</td>\n",
       "      <td>/1 TB SSD/Windows 11 Home/8</td>\n",
       "      <td>Graphics/NVIDIA ...</td>\n",
       "      <td>None</td>\n",
       "    </tr>\n",
       "    <tr>\n",
       "      <th>718</th>\n",
       "      <td>ASUS Zenbook Flip 14 OLED (2022) Touch Panel C...</td>\n",
       "      <td>/512</td>\n",
       "      <td>SSD/Windows 11 Home) UP5...</td>\n",
       "      <td>None</td>\n",
       "    </tr>\n",
       "    <tr>\n",
       "      <th>719</th>\n",
       "      <td>Lenovo Ideapad Slim 3i Core i5 10th Gen - (8</td>\n",
       "      <td>/1 TB HDD/256</td>\n",
       "      <td>SSD/Windows 10 Home) 15IIL05 Laptop</td>\n",
       "      <td>None</td>\n",
       "    </tr>\n",
       "  </tbody>\n",
       "</table>\n",
       "<p>720 rows × 4 columns</p>\n",
       "</div>"
      ],
      "text/plain": [
       "                                                     0   \n",
       "0              Lenovo IdeaPad 3 Core i3 11th Gen - (8   \\\n",
       "1              Lenovo IdeaPad 3 Core i3 11th Gen - (8    \n",
       "2       ASUS VivoBook 15 (2022) Core i3 10th Gen - (8    \n",
       "3     HP Pavilion Ryzen 5 Hexa Core AMD R5-5600H - (8    \n",
       "4           ASUS TUF Gaming F15 Core i5 10th Gen - (8    \n",
       "..                                                 ...   \n",
       "715  ASUS Chromebook Flip Touch Celeron Dual Core -...   \n",
       "716  Lenovo IdeaPad Gaming 3 Ryzen 7 Octa Core AMD ...   \n",
       "717  ASUS ROG Zephyrus G15 Ryzen 9 Octa Core 6900HS...   \n",
       "718  ASUS Zenbook Flip 14 OLED (2022) Touch Panel C...   \n",
       "719      Lenovo Ideapad Slim 3i Core i5 10th Gen - (8    \n",
       "\n",
       "                                1   \n",
       "0                           /256   \\\n",
       "1                           /512    \n",
       "2                           /512    \n",
       "3                           /512    \n",
       "4                           /512    \n",
       "..                            ...   \n",
       "715                          /64    \n",
       "716                         /512    \n",
       "717  /1 TB SSD/Windows 11 Home/8    \n",
       "718                         /512    \n",
       "719                /1 TB HDD/256    \n",
       "\n",
       "                                                     2   \n",
       "0     SSD/Windows 11 Home) 14ITL05 Thin and Light L...  \\\n",
       "1     SSD/Windows 11 Home) 82H801L7IN | 82H802FJIN ...   \n",
       "2     SSD/Windows 11 Home) X515JA-EJ362WS | X515JA-...   \n",
       "3                                    SSD/Windows 10/4    \n",
       "4                               SSD/Windows 11 Home/4    \n",
       "..                                                 ...   \n",
       "715     EMMC Storage/Chrome OS) C214MA-BU0452 Chrom...   \n",
       "716                             SSD/Windows 11 Home/4    \n",
       "717                                Graphics/NVIDIA ...   \n",
       "718                        SSD/Windows 11 Home) UP5...   \n",
       "719                SSD/Windows 10 Home) 15IIL05 Laptop   \n",
       "\n",
       "                                 3  \n",
       "0                             None  \n",
       "1                             None  \n",
       "2                             None  \n",
       "3      Graphics/NVIDIA GeForce ...  \n",
       "4     Graphics/NVIDIA GeForce G...  \n",
       "..                             ...  \n",
       "715                           None  \n",
       "716                     Graphic...  \n",
       "717                           None  \n",
       "718                           None  \n",
       "719                           None  \n",
       "\n",
       "[720 rows x 4 columns]"
      ]
     },
     "execution_count": 49,
     "metadata": {},
     "output_type": "execute_result"
    }
   ],
   "source": [
    "temp1"
   ]
  },
  {
   "cell_type": "code",
   "execution_count": 50,
   "id": "91896af4",
   "metadata": {},
   "outputs": [],
   "source": [
    "temp1s = temp1[0]\n"
   ]
  },
  {
   "cell_type": "code",
   "execution_count": 51,
   "id": "5407a595",
   "metadata": {},
   "outputs": [
    {
     "data": {
      "text/html": [
       "<div>\n",
       "<style scoped>\n",
       "    .dataframe tbody tr th:only-of-type {\n",
       "        vertical-align: middle;\n",
       "    }\n",
       "\n",
       "    .dataframe tbody tr th {\n",
       "        vertical-align: top;\n",
       "    }\n",
       "\n",
       "    .dataframe thead th {\n",
       "        text-align: right;\n",
       "    }\n",
       "</style>\n",
       "<table border=\"1\" class=\"dataframe\">\n",
       "  <thead>\n",
       "    <tr style=\"text-align: right;\">\n",
       "      <th></th>\n",
       "      <th>0</th>\n",
       "    </tr>\n",
       "  </thead>\n",
       "  <tbody>\n",
       "    <tr>\n",
       "      <th>0</th>\n",
       "      <td>Lenovo IdeaPad 3 Core i3 11th Gen - (8</td>\n",
       "    </tr>\n",
       "    <tr>\n",
       "      <th>1</th>\n",
       "      <td>Lenovo IdeaPad 3 Core i3 11th Gen - (8</td>\n",
       "    </tr>\n",
       "    <tr>\n",
       "      <th>2</th>\n",
       "      <td>ASUS VivoBook 15 (2022) Core i3 10th Gen - (8</td>\n",
       "    </tr>\n",
       "    <tr>\n",
       "      <th>3</th>\n",
       "      <td>HP Pavilion Ryzen 5 Hexa Core AMD R5-5600H - (8</td>\n",
       "    </tr>\n",
       "    <tr>\n",
       "      <th>4</th>\n",
       "      <td>ASUS TUF Gaming F15 Core i5 10th Gen - (8</td>\n",
       "    </tr>\n",
       "    <tr>\n",
       "      <th>...</th>\n",
       "      <td>...</td>\n",
       "    </tr>\n",
       "    <tr>\n",
       "      <th>715</th>\n",
       "      <td>ASUS Chromebook Flip Touch Celeron Dual Core -...</td>\n",
       "    </tr>\n",
       "    <tr>\n",
       "      <th>716</th>\n",
       "      <td>Lenovo IdeaPad Gaming 3 Ryzen 7 Octa Core AMD ...</td>\n",
       "    </tr>\n",
       "    <tr>\n",
       "      <th>717</th>\n",
       "      <td>ASUS ROG Zephyrus G15 Ryzen 9 Octa Core 6900HS...</td>\n",
       "    </tr>\n",
       "    <tr>\n",
       "      <th>718</th>\n",
       "      <td>ASUS Zenbook Flip 14 OLED (2022) Touch Panel C...</td>\n",
       "    </tr>\n",
       "    <tr>\n",
       "      <th>719</th>\n",
       "      <td>Lenovo Ideapad Slim 3i Core i5 10th Gen - (8</td>\n",
       "    </tr>\n",
       "  </tbody>\n",
       "</table>\n",
       "<p>720 rows × 1 columns</p>\n",
       "</div>"
      ],
      "text/plain": [
       "                                                     0\n",
       "0              Lenovo IdeaPad 3 Core i3 11th Gen - (8 \n",
       "1              Lenovo IdeaPad 3 Core i3 11th Gen - (8 \n",
       "2       ASUS VivoBook 15 (2022) Core i3 10th Gen - (8 \n",
       "3     HP Pavilion Ryzen 5 Hexa Core AMD R5-5600H - (8 \n",
       "4           ASUS TUF Gaming F15 Core i5 10th Gen - (8 \n",
       "..                                                 ...\n",
       "715  ASUS Chromebook Flip Touch Celeron Dual Core -...\n",
       "716  Lenovo IdeaPad Gaming 3 Ryzen 7 Octa Core AMD ...\n",
       "717  ASUS ROG Zephyrus G15 Ryzen 9 Octa Core 6900HS...\n",
       "718  ASUS Zenbook Flip 14 OLED (2022) Touch Panel C...\n",
       "719      Lenovo Ideapad Slim 3i Core i5 10th Gen - (8 \n",
       "\n",
       "[720 rows x 1 columns]"
      ]
     },
     "execution_count": 51,
     "metadata": {},
     "output_type": "execute_result"
    }
   ],
   "source": [
    "temp1s = pd.DataFrame(temp1s)\n",
    "temp1s"
   ]
  },
  {
   "cell_type": "code",
   "execution_count": 52,
   "id": "e3cd681c",
   "metadata": {},
   "outputs": [
    {
     "data": {
      "text/plain": [
       "0\n",
       "ASUS         251\n",
       "Lenovo       196\n",
       "HP            61\n",
       "DELL          61\n",
       "acer          35\n",
       "RedmiBook     31\n",
       "MSI           30\n",
       "Infinix       20\n",
       "APPLE         19\n",
       "realme         6\n",
       "ALIENWARE      3\n",
       "SAMSUNG        2\n",
       "Ultimus        2\n",
       "Vaio           1\n",
       "GIGABYTE       1\n",
       "Nokia          1\n",
       "Name: count, dtype: int64"
      ]
     },
     "execution_count": 52,
     "metadata": {},
     "output_type": "execute_result"
    }
   ],
   "source": [
    "brand = temp1s[0].str.split().str[0]\n",
    "brand.value_counts()"
   ]
  },
  {
   "cell_type": "code",
   "execution_count": 53,
   "id": "657db6bf",
   "metadata": {},
   "outputs": [
    {
     "data": {
      "text/html": [
       "<div>\n",
       "<style scoped>\n",
       "    .dataframe tbody tr th:only-of-type {\n",
       "        vertical-align: middle;\n",
       "    }\n",
       "\n",
       "    .dataframe tbody tr th {\n",
       "        vertical-align: top;\n",
       "    }\n",
       "\n",
       "    .dataframe thead th {\n",
       "        text-align: right;\n",
       "    }\n",
       "</style>\n",
       "<table border=\"1\" class=\"dataframe\">\n",
       "  <thead>\n",
       "    <tr style=\"text-align: right;\">\n",
       "      <th></th>\n",
       "      <th>Product</th>\n",
       "      <th>Rating</th>\n",
       "      <th>MRP</th>\n",
       "      <th>Feature</th>\n",
       "      <th>Brand Name</th>\n",
       "    </tr>\n",
       "  </thead>\n",
       "  <tbody>\n",
       "    <tr>\n",
       "      <th>0</th>\n",
       "      <td>Lenovo IdeaPad 3 Core i3 11th Gen - (8 GB/256 ...</td>\n",
       "      <td>4.2</td>\n",
       "      <td>36990.0</td>\n",
       "      <td>Intel Core i3 Processor (11th Gen)8 GB DDR4 RA...</td>\n",
       "      <td>Lenovo</td>\n",
       "    </tr>\n",
       "    <tr>\n",
       "      <th>1</th>\n",
       "      <td>Lenovo IdeaPad 3 Core i3 11th Gen - (8 GB/512 ...</td>\n",
       "      <td>4.2</td>\n",
       "      <td>39990.0</td>\n",
       "      <td>Intel Core i3 Processor (11th Gen)8 GB DDR4 RA...</td>\n",
       "      <td>Lenovo</td>\n",
       "    </tr>\n",
       "    <tr>\n",
       "      <th>2</th>\n",
       "      <td>ASUS VivoBook 15 (2022) Core i3 10th Gen - (8 ...</td>\n",
       "      <td>4.3</td>\n",
       "      <td>32990.0</td>\n",
       "      <td>Intel Core i3 Processor (10th Gen)8 GB DDR4 RA...</td>\n",
       "      <td>ASUS</td>\n",
       "    </tr>\n",
       "    <tr>\n",
       "      <th>3</th>\n",
       "      <td>HP Pavilion Ryzen 5 Hexa Core AMD R5-5600H - (...</td>\n",
       "      <td>4.4</td>\n",
       "      <td>49990.0</td>\n",
       "      <td>AMD Ryzen 5 Hexa Core Processor8 GB DDR4 RAM64...</td>\n",
       "      <td>HP</td>\n",
       "    </tr>\n",
       "    <tr>\n",
       "      <th>4</th>\n",
       "      <td>ASUS TUF Gaming F15 Core i5 10th Gen - (8 GB/5...</td>\n",
       "      <td>4.4</td>\n",
       "      <td>49990.0</td>\n",
       "      <td>Intel Core i5 Processor (10th Gen)8 GB DDR4 RA...</td>\n",
       "      <td>ASUS</td>\n",
       "    </tr>\n",
       "  </tbody>\n",
       "</table>\n",
       "</div>"
      ],
      "text/plain": [
       "                                             Product  Rating      MRP   \n",
       "0  Lenovo IdeaPad 3 Core i3 11th Gen - (8 GB/256 ...     4.2  36990.0  \\\n",
       "1  Lenovo IdeaPad 3 Core i3 11th Gen - (8 GB/512 ...     4.2  39990.0   \n",
       "2  ASUS VivoBook 15 (2022) Core i3 10th Gen - (8 ...     4.3  32990.0   \n",
       "3  HP Pavilion Ryzen 5 Hexa Core AMD R5-5600H - (...     4.4  49990.0   \n",
       "4  ASUS TUF Gaming F15 Core i5 10th Gen - (8 GB/5...     4.4  49990.0   \n",
       "\n",
       "                                             Feature Brand Name  \n",
       "0  Intel Core i3 Processor (11th Gen)8 GB DDR4 RA...     Lenovo  \n",
       "1  Intel Core i3 Processor (11th Gen)8 GB DDR4 RA...     Lenovo  \n",
       "2  Intel Core i3 Processor (10th Gen)8 GB DDR4 RA...       ASUS  \n",
       "3  AMD Ryzen 5 Hexa Core Processor8 GB DDR4 RAM64...         HP  \n",
       "4  Intel Core i5 Processor (10th Gen)8 GB DDR4 RA...       ASUS  "
      ]
     },
     "execution_count": 53,
     "metadata": {},
     "output_type": "execute_result"
    }
   ],
   "source": [
    "df['Brand Name'] = brand\n",
    "df.head()"
   ]
  },
  {
   "cell_type": "code",
   "execution_count": 54,
   "id": "92c85eba",
   "metadata": {},
   "outputs": [
    {
     "data": {
      "text/plain": [
       "Brand Name\n",
       "ASUS         251\n",
       "Lenovo       196\n",
       "HP            61\n",
       "DELL          61\n",
       "acer          35\n",
       "RedmiBook     31\n",
       "MSI           30\n",
       "Infinix       20\n",
       "APPLE         19\n",
       "realme         6\n",
       "ALIENWARE      3\n",
       "SAMSUNG        2\n",
       "Ultimus        2\n",
       "Vaio           1\n",
       "GIGABYTE       1\n",
       "Nokia          1\n",
       "Name: count, dtype: int64"
      ]
     },
     "execution_count": 54,
     "metadata": {},
     "output_type": "execute_result"
    }
   ],
   "source": [
    "df['Brand Name'].value_counts()"
   ]
  },
  {
   "cell_type": "code",
   "execution_count": 55,
   "id": "805ed89f",
   "metadata": {},
   "outputs": [],
   "source": [
    "df['Brand Name'] = df['Brand Name'].str.replace('realme','Others')\n",
    "df['Brand Name'] = df['Brand Name'].str.replace('SAMSUNG','Others')\n",
    "df['Brand Name'] = df['Brand Name'].str.replace('Ultimus','Others')\n",
    "df['Brand Name'] = df['Brand Name'].str.replace('Vaio','Others')\n",
    "df['Brand Name'] = df['Brand Name'].str.replace('GIGABYTE','Others')\n",
    "df['Brand Name'] = df['Brand Name'].str.replace('Nokia','Others')\n",
    "df['Brand Name'] = df['Brand Name'].str.replace('ALIENWARE','DELL')"
   ]
  },
  {
   "cell_type": "code",
   "execution_count": 56,
   "id": "33c5acc9",
   "metadata": {},
   "outputs": [
    {
     "data": {
      "text/plain": [
       "Brand Name\n",
       "ASUS         251\n",
       "Lenovo       196\n",
       "DELL          64\n",
       "HP            61\n",
       "acer          35\n",
       "RedmiBook     31\n",
       "MSI           30\n",
       "Infinix       20\n",
       "APPLE         19\n",
       "Others        13\n",
       "Name: count, dtype: int64"
      ]
     },
     "execution_count": 56,
     "metadata": {},
     "output_type": "execute_result"
    }
   ],
   "source": [
    "df['Brand Name'].value_counts()"
   ]
  },
  {
   "cell_type": "code",
   "execution_count": 57,
   "id": "cf718e05",
   "metadata": {},
   "outputs": [
    {
     "data": {
      "text/plain": [
       "OS\n",
       "Windows    690\n",
       "Mac         19\n",
       "Others      11\n",
       "Name: count, dtype: int64"
      ]
     },
     "execution_count": 57,
     "metadata": {},
     "output_type": "execute_result"
    }
   ],
   "source": [
    "regex_os = r'(Windows|MAC)'\n",
    "\n",
    "# Function to extract the OS information from a string using regex\n",
    "def extract_os(text):\n",
    "    match = re.search(regex_os, text, re.IGNORECASE)\n",
    "    if match:\n",
    "        return match.group(1)\n",
    "    else:\n",
    "        return \"Others\"\n",
    "\n",
    "# Apply the function to the \"Feature\" column and create a new column with the OS information\n",
    "df['OS'] = df['Feature'].apply(extract_os)\n",
    "df['OS'].value_counts()"
   ]
  },
  {
   "cell_type": "code",
   "execution_count": 58,
   "id": "0f5cf3bf",
   "metadata": {},
   "outputs": [
    {
     "data": {
      "text/html": [
       "<div>\n",
       "<style scoped>\n",
       "    .dataframe tbody tr th:only-of-type {\n",
       "        vertical-align: middle;\n",
       "    }\n",
       "\n",
       "    .dataframe tbody tr th {\n",
       "        vertical-align: top;\n",
       "    }\n",
       "\n",
       "    .dataframe thead th {\n",
       "        text-align: right;\n",
       "    }\n",
       "</style>\n",
       "<table border=\"1\" class=\"dataframe\">\n",
       "  <thead>\n",
       "    <tr style=\"text-align: right;\">\n",
       "      <th></th>\n",
       "      <th>Product</th>\n",
       "      <th>Rating</th>\n",
       "      <th>MRP</th>\n",
       "      <th>Feature</th>\n",
       "      <th>Brand Name</th>\n",
       "      <th>OS</th>\n",
       "    </tr>\n",
       "  </thead>\n",
       "  <tbody>\n",
       "    <tr>\n",
       "      <th>0</th>\n",
       "      <td>Lenovo IdeaPad 3 Core i3 11th Gen - (8 GB/256 ...</td>\n",
       "      <td>4.2</td>\n",
       "      <td>36990.0</td>\n",
       "      <td>Intel Core i3 Processor (11th Gen)8 GB DDR4 RA...</td>\n",
       "      <td>Lenovo</td>\n",
       "      <td>Windows</td>\n",
       "    </tr>\n",
       "    <tr>\n",
       "      <th>1</th>\n",
       "      <td>Lenovo IdeaPad 3 Core i3 11th Gen - (8 GB/512 ...</td>\n",
       "      <td>4.2</td>\n",
       "      <td>39990.0</td>\n",
       "      <td>Intel Core i3 Processor (11th Gen)8 GB DDR4 RA...</td>\n",
       "      <td>Lenovo</td>\n",
       "      <td>Windows</td>\n",
       "    </tr>\n",
       "    <tr>\n",
       "      <th>2</th>\n",
       "      <td>ASUS VivoBook 15 (2022) Core i3 10th Gen - (8 ...</td>\n",
       "      <td>4.3</td>\n",
       "      <td>32990.0</td>\n",
       "      <td>Intel Core i3 Processor (10th Gen)8 GB DDR4 RA...</td>\n",
       "      <td>ASUS</td>\n",
       "      <td>Windows</td>\n",
       "    </tr>\n",
       "    <tr>\n",
       "      <th>3</th>\n",
       "      <td>HP Pavilion Ryzen 5 Hexa Core AMD R5-5600H - (...</td>\n",
       "      <td>4.4</td>\n",
       "      <td>49990.0</td>\n",
       "      <td>AMD Ryzen 5 Hexa Core Processor8 GB DDR4 RAM64...</td>\n",
       "      <td>HP</td>\n",
       "      <td>Windows</td>\n",
       "    </tr>\n",
       "    <tr>\n",
       "      <th>4</th>\n",
       "      <td>ASUS TUF Gaming F15 Core i5 10th Gen - (8 GB/5...</td>\n",
       "      <td>4.4</td>\n",
       "      <td>49990.0</td>\n",
       "      <td>Intel Core i5 Processor (10th Gen)8 GB DDR4 RA...</td>\n",
       "      <td>ASUS</td>\n",
       "      <td>Windows</td>\n",
       "    </tr>\n",
       "  </tbody>\n",
       "</table>\n",
       "</div>"
      ],
      "text/plain": [
       "                                             Product  Rating      MRP   \n",
       "0  Lenovo IdeaPad 3 Core i3 11th Gen - (8 GB/256 ...     4.2  36990.0  \\\n",
       "1  Lenovo IdeaPad 3 Core i3 11th Gen - (8 GB/512 ...     4.2  39990.0   \n",
       "2  ASUS VivoBook 15 (2022) Core i3 10th Gen - (8 ...     4.3  32990.0   \n",
       "3  HP Pavilion Ryzen 5 Hexa Core AMD R5-5600H - (...     4.4  49990.0   \n",
       "4  ASUS TUF Gaming F15 Core i5 10th Gen - (8 GB/5...     4.4  49990.0   \n",
       "\n",
       "                                             Feature Brand Name       OS  \n",
       "0  Intel Core i3 Processor (11th Gen)8 GB DDR4 RA...     Lenovo  Windows  \n",
       "1  Intel Core i3 Processor (11th Gen)8 GB DDR4 RA...     Lenovo  Windows  \n",
       "2  Intel Core i3 Processor (10th Gen)8 GB DDR4 RA...       ASUS  Windows  \n",
       "3  AMD Ryzen 5 Hexa Core Processor8 GB DDR4 RAM64...         HP  Windows  \n",
       "4  Intel Core i5 Processor (10th Gen)8 GB DDR4 RA...       ASUS  Windows  "
      ]
     },
     "execution_count": 58,
     "metadata": {},
     "output_type": "execute_result"
    }
   ],
   "source": [
    "df.head()"
   ]
  },
  {
   "cell_type": "code",
   "execution_count": 59,
   "id": "1c856551",
   "metadata": {},
   "outputs": [
    {
     "data": {
      "text/plain": [
       "Ram Type\n",
       "DDR4       561\n",
       "DDR5        92\n",
       "LPDDR4X     37\n",
       "LPDDR5       9\n",
       "LPDDR4       8\n",
       "LPDDR3       1\n",
       "Name: count, dtype: int64"
      ]
     },
     "execution_count": 59,
     "metadata": {},
     "output_type": "execute_result"
    }
   ],
   "source": [
    "regex_ram_type = r'(DDR[0-9L]*|LPDDR[0-9X]*)'\n",
    "\n",
    "def extract_ram_type(text):\n",
    "    match = re.search(regex_ram_type, text, re.IGNORECASE)\n",
    "    if match:\n",
    "        return match.group(0)\n",
    "    else:\n",
    "        return None\n",
    "\n",
    "df['Ram Type'] = df['Feature'].apply(extract_ram_type)\n",
    "\n",
    "df['Ram Type'].value_counts()"
   ]
  },
  {
   "cell_type": "code",
   "execution_count": 60,
   "id": "6be8f602",
   "metadata": {},
   "outputs": [
    {
     "data": {
      "text/plain": [
       "Ram Type\n",
       "DDR4       561\n",
       "DDR5        92\n",
       "OthersX     37\n",
       "Others      18\n",
       "Name: count, dtype: int64"
      ]
     },
     "execution_count": 60,
     "metadata": {},
     "output_type": "execute_result"
    }
   ],
   "source": [
    "df['Ram Type'] = df['Ram Type'].str.replace('LPDDR5','Others')\n",
    "df['Ram Type'] = df['Ram Type'].str.replace('LPDDR4','Others')\n",
    "df['Ram Type'] = df['Ram Type'].str.replace('LPDDR3','Others')\n",
    "df['Ram Type'].value_counts()"
   ]
  },
  {
   "cell_type": "code",
   "execution_count": 61,
   "id": "86a6b5a7",
   "metadata": {},
   "outputs": [
    {
     "data": {
      "text/plain": [
       "Ram Type\n",
       "DDR4      561\n",
       "DDR5       92\n",
       "Others     55\n",
       "Name: count, dtype: int64"
      ]
     },
     "execution_count": 61,
     "metadata": {},
     "output_type": "execute_result"
    }
   ],
   "source": [
    "df['Ram Type'] = df['Ram Type'].str.replace('OthersX','Others')\n",
    "df['Ram Type'].value_counts()"
   ]
  },
  {
   "cell_type": "code",
   "execution_count": 62,
   "id": "e9f94d0c",
   "metadata": {},
   "outputs": [
    {
     "data": {
      "text/plain": [
       "array(['DDR4', 'DDR5', 'Others', None], dtype=object)"
      ]
     },
     "execution_count": 62,
     "metadata": {},
     "output_type": "execute_result"
    }
   ],
   "source": [
    "df['Ram Type'].unique()"
   ]
  },
  {
   "cell_type": "code",
   "execution_count": 65,
   "id": "fcdbd9ab",
   "metadata": {},
   "outputs": [
    {
     "data": {
      "text/plain": [
       "RAM\n",
       "8GB      400\n",
       "16GB     263\n",
       "4GB       38\n",
       "32GB      17\n",
       "128GB      2\n",
       "Name: count, dtype: int64"
      ]
     },
     "execution_count": 65,
     "metadata": {},
     "output_type": "execute_result"
    }
   ],
   "source": [
    "regex_ram = r'(\\d+)\\s*(?:GB|MB)(?:\\s*DDR\\d)?'\n",
    "\n",
    "# Function to extract RAM information from a string using regex\n",
    "def extract_ram(text):\n",
    "    match = re.search(regex_ram, text, re.IGNORECASE)\n",
    "    if match:\n",
    "        return f\"{match.group(1)}GB\"\n",
    "    else:\n",
    "        return None\n",
    "\n",
    "# Apply the function to the \"Feature\" column and create a new column with the RAM information\n",
    "df['RAM'] = df['Feature'].apply(extract_ram)\n",
    "\n",
    "# Print the count of each RAM \n",
    "df['RAM'].value_counts()"
   ]
  },
  {
   "cell_type": "code",
   "execution_count": 66,
   "id": "11a78536",
   "metadata": {},
   "outputs": [],
   "source": [
    "df['RAM'] = df['RAM'].str.replace('8GB','8')\n",
    "df['RAM'] = df['RAM'].str.replace('16GB','16')\n",
    "df['RAM'] = df['RAM'].str.replace('4GB','4')\n",
    "df['RAM'] = df['RAM'].str.replace('32GB','32')\n",
    "df['RAM'] = df['RAM'].str.replace('128GB','32')\n",
    "df['RAM'] = df['RAM'].str.replace('128','32')"
   ]
  },
  {
   "cell_type": "code",
   "execution_count": 67,
   "id": "9be07201",
   "metadata": {},
   "outputs": [
    {
     "data": {
      "text/plain": [
       "RAM\n",
       "8     400\n",
       "16    263\n",
       "4      38\n",
       "32     19\n",
       "Name: count, dtype: int64"
      ]
     },
     "execution_count": 67,
     "metadata": {},
     "output_type": "execute_result"
    }
   ],
   "source": [
    "df['RAM'].value_counts()"
   ]
  },
  {
   "cell_type": "code",
   "execution_count": 68,
   "id": "44f9ec18",
   "metadata": {},
   "outputs": [
    {
     "name": "stdout",
     "output_type": "stream",
     "text": [
      "<class 'pandas.core.frame.DataFrame'>\n",
      "RangeIndex: 720 entries, 0 to 719\n",
      "Data columns (total 8 columns):\n",
      " #   Column      Non-Null Count  Dtype  \n",
      "---  ------      --------------  -----  \n",
      " 0   Product     720 non-null    object \n",
      " 1   Rating      581 non-null    float64\n",
      " 2   MRP         720 non-null    float32\n",
      " 3   Feature     720 non-null    object \n",
      " 4   Brand Name  720 non-null    object \n",
      " 5   OS          720 non-null    object \n",
      " 6   Ram Type    708 non-null    object \n",
      " 7   RAM         720 non-null    object \n",
      "dtypes: float32(1), float64(1), object(6)\n",
      "memory usage: 42.3+ KB\n"
     ]
    }
   ],
   "source": [
    "df.info()"
   ]
  },
  {
   "cell_type": "code",
   "execution_count": 69,
   "id": "db740d4b",
   "metadata": {},
   "outputs": [
    {
     "data": {
      "text/plain": [
       "0                             /256 \n",
       "1                             /512 \n",
       "2                             /512 \n",
       "3                             /512 \n",
       "4                             /512 \n",
       "                   ...             \n",
       "715                            /64 \n",
       "716                           /512 \n",
       "717    /1 TB SSD/Windows 11 Home/8 \n",
       "718                           /512 \n",
       "719                  /1 TB HDD/256 \n",
       "Name: 1, Length: 720, dtype: object"
      ]
     },
     "execution_count": 69,
     "metadata": {},
     "output_type": "execute_result"
    }
   ],
   "source": [
    "temp1[1]"
   ]
  },
  {
   "cell_type": "code",
   "execution_count": 70,
   "id": "36d52a0a",
   "metadata": {},
   "outputs": [
    {
     "data": {
      "text/plain": [
       "0                             /256 \n",
       "1                             /512 \n",
       "2                             /512 \n",
       "3                             /512 \n",
       "4                             /512 \n",
       "                   ...             \n",
       "715                            /64 \n",
       "716                           /512 \n",
       "717    /1 TB SSD/Windows 11 Home/8 \n",
       "718                           /512 \n",
       "719                  /1 TB HDD/256 \n",
       "Name: 1, Length: 720, dtype: object"
      ]
     },
     "execution_count": 70,
     "metadata": {},
     "output_type": "execute_result"
    }
   ],
   "source": [
    "DISKSIZE =  temp1[1]\n",
    "DISKSIZE"
   ]
  },
  {
   "cell_type": "code",
   "execution_count": 71,
   "id": "ea8ea158",
   "metadata": {},
   "outputs": [
    {
     "data": {
      "text/plain": [
       "1\n",
       "/512                                                                375\n",
       "/256                                                                 99\n",
       "/1 TB SSD/Windows 11 Home/4                                          38\n",
       "/1 TB SSD/Windows 11 Hom...                                          31\n",
       "/1 TB SSD/Windows 11 Home/8                                          27\n",
       "/1 TB HDD/256                                                        26\n",
       "/1 TB SSD/Win...                                                     25\n",
       "/1 TB SSD/Windows 11 Home/6                                          11\n",
       "/128                                                                  8\n",
       "/64                                                                   7\n",
       "/1 TB SSD/Windows 10 Home/4                                           6\n",
       "/1 TB SSD/Windows 11 ...                                              6\n",
       "/1 TB SSD/Windows 10 Home/6                                           5\n",
       "/1 TB SSD/Windows 10 Home/8                                           4\n",
       "/1 TB SSD/Windows 10 Home...                                          3\n",
       "/1 TB HDD/128                                                         2\n",
       "/1 TB HDD/512                                                         2\n",
       "/1 TB SSD/Windows 11 Home/16                                          2\n",
       "/2 TB SSD/Windows 1...                                                2\n",
       "/1 TB SSD/Windows ...                                                 2\n",
       "/1 TB HDD/Windows 10 Home) X515JA-EJ322TS Thin and Light Lapt...      2\n",
       "/1 TB SSD/Windows 11 Home...                                          2\n",
       "/1 TB HDD/Windows 10 Home) X515JA-EJ501T Thin and Light Lapto...      2\n",
       "/1 TB HDD/Windows 10 Pro) ExpertBook P1 P1440FA Thin and Li...        2\n",
       "/2 TB SSD/Windows 11 Home/16 ...                                      1\n",
       "/1 TB SSD/Windows 11 Home/4 ...                                       1\n",
       "/2 TB SSD/Windows 11 Home/8                                           1\n",
       "/2 TB SSD/Windows 11 Home/16                                          1\n",
       "/2 TB SSD/Windows ...                                                 1\n",
       "/1 TB HDD/Windows 11 Home) 245 G8 Laptop                              1\n",
       "/1 TB HDD/Windows 10 Home) 15ADA05 Laptop                             1\n",
       "/1 TB SSD/Windows 11 Home) UM5302TA-LX701WS Thi...                    1\n",
       "/1 TB HDD/Windows 10 Home) V15-IIL Laptop                             1\n",
       "/1 TB HDD/Windows 11 Home) 15IML05 Thin and Light Laptop              1\n",
       "/1 TB HDD/Windows 10 Home) X415FA-BV311T Laptop                       1\n",
       "/1 TB HDD/Windows 10 Home/4                                           1\n",
       "/1 TB SSD/Windows 11 Home/6 G...                                      1\n",
       "/1 TB HDD/Windows 10 Pro/2                                            1\n",
       "/1 TB HDD/Windows 10 Home) X515JA-BR381T Thin and Light Lapto...      1\n",
       "/1 TB SSD/Windows 10 Home) U...                                       1\n",
       "/1 TB SSD/Windows 11 Home/...                                         1\n",
       "/1 TB HDD/Windows 11 Home) Vostro 3405 Thin and Light La...           1\n",
       "/1 TB SSD/Mac OS Monterey) MK193HN/A                                  1\n",
       "/1 TB SSD/Mac OS Monterey) MK1A3HN/A                                  1\n",
       "/1 TB SSD/Mac OS Monterey) MKGQ3HN/A                                  1\n",
       "/1 TB SSD/Windows 10/6                                                1\n",
       "/1 TB SSD/Windows 11 Home/AMD Radeon AMD) GV301RA-L...                1\n",
       "/1 TB SSD/Windows 10 Home) Yoga Slim 7 14ITL05b ...                   1\n",
       "/1 TB HDD/Windows 10) Inspiron 3505 Notebook                          1\n",
       "/1 TB SSD/Mac OS Monterey) MK1F3HN/A                                  1\n",
       "/32                                                                   1\n",
       "/1 TB SSD/Mac OS Big Sur) Z11B0008S                                   1\n",
       "/1 TB SSD/Windows 11 Home/AMD Radeon RX 6600M) 16-C0140...            1\n",
       "/1 TB HDD/Windows 10 Home) A515-56 Thin and Light Laptop              1\n",
       "/2 TB SSD/Windows 10 Pro) ExpertBook B9 B9450FA Thin and L...         1\n",
       "Name: count, dtype: int64"
      ]
     },
     "execution_count": 71,
     "metadata": {},
     "output_type": "execute_result"
    }
   ],
   "source": [
    "DISKSIZE.value_counts()"
   ]
  },
  {
   "cell_type": "code",
   "execution_count": 72,
   "id": "6c20cb2c",
   "metadata": {},
   "outputs": [],
   "source": [
    "DISKSIZE = DISKSIZE.str.replace('/','')"
   ]
  },
  {
   "cell_type": "code",
   "execution_count": 73,
   "id": "e24888aa",
   "metadata": {},
   "outputs": [
    {
     "data": {
      "text/plain": [
       "1\n",
       "512                                                               375\n",
       "256                                                                99\n",
       "1 TB SSDWindows 11 Home4                                           38\n",
       "1 TB SSDWindows 11 Hom...                                          31\n",
       "1 TB SSDWindows 11 Home8                                           27\n",
       "1 TB HDD256                                                        26\n",
       "1 TB SSDWin...                                                     25\n",
       "1 TB SSDWindows 11 Home6                                           11\n",
       "128                                                                 8\n",
       "64                                                                  7\n",
       "1 TB SSDWindows 10 Home4                                            6\n",
       "1 TB SSDWindows 11 ...                                              6\n",
       "1 TB SSDWindows 10 Home6                                            5\n",
       "1 TB SSDWindows 10 Home8                                            4\n",
       "1 TB SSDWindows 11 Home...                                          3\n",
       "1 TB SSDWindows 10 Home...                                          3\n",
       "1 TB HDD128                                                         2\n",
       "1 TB HDD512                                                         2\n",
       "1 TB SSDWindows 11 Home16                                           2\n",
       "2 TB SSDWindows 1...                                                2\n",
       "1 TB SSDWindows ...                                                 2\n",
       "1 TB HDDWindows 10 Home) X515JA-EJ322TS Thin and Light Lapt...      2\n",
       "1 TB HDDWindows 10 Home) X515JA-EJ501T Thin and Light Lapto...      2\n",
       "1 TB HDDWindows 10 Pro) ExpertBook P1 P1440FA Thin and Li...        2\n",
       "2 TB SSDWindows 11 Home16 ...                                       1\n",
       "2 TB SSDWindows 11 Home8                                            1\n",
       "1 TB SSDWindows 11 Home4 ...                                        1\n",
       "2 TB SSDWindows 11 Home16                                           1\n",
       "1 TB HDDWindows 11 Home) 245 G8 Laptop                              1\n",
       "2 TB SSDWindows ...                                                 1\n",
       "1 TB HDDWindows 10 Home) 15ADA05 Laptop                             1\n",
       "1 TB SSDWindows 11 Home) UM5302TA-LX701WS Thi...                    1\n",
       "1 TB HDDWindows 10 Home) V15-IIL Laptop                             1\n",
       "1 TB HDDWindows 11 Home) 15IML05 Thin and Light Laptop              1\n",
       "1 TB HDDWindows 10 Home) X415FA-BV311T Laptop                       1\n",
       "1 TB HDDWindows 10 Home4                                            1\n",
       "1 TB SSDWindows 11 Home6 G...                                       1\n",
       "1 TB HDDWindows 10 Pro2                                             1\n",
       "1 TB HDDWindows 10 Home) X515JA-BR381T Thin and Light Lapto...      1\n",
       "1 TB SSDWindows 10 Home) Yoga Slim 7 14ITL05b ...                   1\n",
       "1 TB HDDWindows 10 Home) A515-56 Thin and Light Laptop              1\n",
       "1 TB SSDWindows 11 HomeAMD Radeon RX 6600M) 16-C0140...             1\n",
       "1 TB SSDMac OS Big Sur) Z11B0008S                                   1\n",
       "32                                                                  1\n",
       "1 TB SSDMac OS Monterey) MK1F3HNA                                   1\n",
       "1 TB HDDWindows 10) Inspiron 3505 Notebook                          1\n",
       "1 TB SSDWindows 11 HomeAMD Radeon AMD) GV301RA-L...                 1\n",
       "1 TB SSDWindows 10 Home) U...                                       1\n",
       "1 TB SSDWindows 106                                                 1\n",
       "1 TB SSDMac OS Monterey) MKGQ3HNA                                   1\n",
       "1 TB SSDMac OS Monterey) MK1A3HNA                                   1\n",
       "1 TB SSDMac OS Monterey) MK193HNA                                   1\n",
       "1 TB HDDWindows 11 Home) Vostro 3405 Thin and Light La...           1\n",
       "2 TB SSDWindows 10 Pro) ExpertBook B9 B9450FA Thin and L...         1\n",
       "Name: count, dtype: int64"
      ]
     },
     "execution_count": 73,
     "metadata": {},
     "output_type": "execute_result"
    }
   ],
   "source": [
    "DISKSIZE.value_counts()"
   ]
  },
  {
   "cell_type": "code",
   "execution_count": 74,
   "id": "6f524d5f",
   "metadata": {},
   "outputs": [
    {
     "data": {
      "text/plain": [
       "0      256\n",
       "1      512\n",
       "2      512\n",
       "3      512\n",
       "4      512\n",
       "      ... \n",
       "715     64\n",
       "716    512\n",
       "717      1\n",
       "718    512\n",
       "719      1\n",
       "Name: 1, Length: 720, dtype: int32"
      ]
     },
     "execution_count": 74,
     "metadata": {},
     "output_type": "execute_result"
    }
   ],
   "source": [
    "DISKSIZE = DISKSIZE.str.split().str[0]\n",
    "DISKSIZE = DISKSIZE.astype('int')\n",
    "DISKSIZE"
   ]
  },
  {
   "cell_type": "code",
   "execution_count": 75,
   "id": "c8cf6eea",
   "metadata": {},
   "outputs": [],
   "source": [
    "df['DISK SIZE'] = DISKSIZE"
   ]
  },
  {
   "cell_type": "code",
   "execution_count": 76,
   "id": "bb7637bd",
   "metadata": {},
   "outputs": [],
   "source": [
    "df['DISK SIZE'] = df['DISK SIZE'].replace(1,1024)\n",
    "df['DISK SIZE'] = df['DISK SIZE'].replace(2,2048)"
   ]
  },
  {
   "cell_type": "code",
   "execution_count": 77,
   "id": "29817042",
   "metadata": {},
   "outputs": [
    {
     "data": {
      "text/plain": [
       "DISK SIZE\n",
       "512     375\n",
       "1024    223\n",
       "256      99\n",
       "128       8\n",
       "64        7\n",
       "2048      7\n",
       "32        1\n",
       "Name: count, dtype: int64"
      ]
     },
     "execution_count": 77,
     "metadata": {},
     "output_type": "execute_result"
    }
   ],
   "source": [
    "df['DISK SIZE'].value_counts()"
   ]
  },
  {
   "cell_type": "code",
   "execution_count": 78,
   "id": "d19c0c80",
   "metadata": {},
   "outputs": [
    {
     "data": {
      "text/plain": [
       "DISK SIZE\n",
       "512     375\n",
       "1024    230\n",
       "256      99\n",
       "128      16\n",
       "Name: count, dtype: int64"
      ]
     },
     "execution_count": 78,
     "metadata": {},
     "output_type": "execute_result"
    }
   ],
   "source": [
    "df['DISK SIZE'] = df['DISK SIZE'].replace(32,128)\n",
    "df['DISK SIZE'] = df['DISK SIZE'].replace(64,128)\n",
    "df['DISK SIZE'] = df['DISK SIZE'].replace(2048,1024)\n",
    "df['DISK SIZE'].value_counts()"
   ]
  },
  {
   "cell_type": "code",
   "execution_count": 79,
   "id": "bf8d6e42",
   "metadata": {},
   "outputs": [
    {
     "data": {
      "text/plain": [
       "Processor\n",
       "Intel Core       355\n",
       "AMD Ryzen        307\n",
       "Intel Celeron     23\n",
       "Intel Pentium      5\n",
       "Intel i3           3\n",
       "AMD Athlon         2\n",
       "Intel Evo          2\n",
       "Intel PQC          1\n",
       "AMD Dual           1\n",
       "Intel i7           1\n",
       "Name: count, dtype: int64"
      ]
     },
     "execution_count": 79,
     "metadata": {},
     "output_type": "execute_result"
    }
   ],
   "source": [
    "regex_processor = r'(?:Intel|AMD)\\s+[A-Za-z\\d]+'\n",
    "\n",
    "# Function to extract processor name from a string using regex\n",
    "def extract_processor(text):\n",
    "    match = re.search(regex_processor, text, re.IGNORECASE)\n",
    "    if match:\n",
    "        return match.group()\n",
    "    else:\n",
    "        return None\n",
    "\n",
    "# Apply the function to the \"Feature\" column and create a new column with the processor information\n",
    "df['Processor'] = df['Feature'].apply(extract_processor)\n",
    "df['Processor'].value_counts()"
   ]
  },
  {
   "cell_type": "code",
   "execution_count": 80,
   "id": "d1ad7f05",
   "metadata": {},
   "outputs": [
    {
     "data": {
      "text/plain": [
       "Processor\n",
       "Intel     390\n",
       "AMD       310\n",
       "Others     20\n",
       "Name: count, dtype: int64"
      ]
     },
     "execution_count": 80,
     "metadata": {},
     "output_type": "execute_result"
    }
   ],
   "source": [
    "def extract_processor_brand(text):\n",
    "    if re.search(r\"intel\", text, re.IGNORECASE):\n",
    "        return \"Intel\"\n",
    "    elif re.search(r\"amd\", text, re.IGNORECASE):\n",
    "        return \"AMD\"\n",
    "    else:\n",
    "        return \"Others\"\n",
    "\n",
    "# Apply the function to the \"Feature\" column and create a new column with the processor brand information\n",
    "df['Processor'] = df['Feature'].apply(extract_processor_brand)\n",
    "df['Processor'].value_counts()"
   ]
  },
  {
   "cell_type": "code",
   "execution_count": 81,
   "id": "5fdd4fe1",
   "metadata": {},
   "outputs": [
    {
     "data": {
      "text/plain": [
       "array(['Intel', 'AMD', 'Others'], dtype=object)"
      ]
     },
     "execution_count": 81,
     "metadata": {},
     "output_type": "execute_result"
    }
   ],
   "source": [
    "df['Processor'].unique()"
   ]
  },
  {
   "cell_type": "code",
   "execution_count": 82,
   "id": "63cac556",
   "metadata": {},
   "outputs": [
    {
     "data": {
      "text/plain": [
       "GPU\n",
       "AMD 16 GB        155\n",
       "AMD 8 GB         146\n",
       "AMD 32 GB          4\n",
       "NVIDIA 16 GB       3\n",
       "NVIDIA 8 GB        2\n",
       "NVIDIA 2 GB        1\n",
       "AMD 4 GB           1\n",
       "NVIDIA 4 GB        1\n",
       "NVIDIA 32 GB       1\n",
       "NVIDIA 128 GB      1\n",
       "Name: count, dtype: int64"
      ]
     },
     "execution_count": 82,
     "metadata": {},
     "output_type": "execute_result"
    }
   ],
   "source": [
    "regex_gpu = r'(\\bNVIDIA\\b|\\bAMD\\b).*?(\\d+)\\s*GB'\n",
    "\n",
    "# Function to extract GPU information from a string using regex\n",
    "def extract_gpu(text):\n",
    "    match = re.search(regex_gpu, text, re.IGNORECASE)\n",
    "    if match:\n",
    "        return f\"{match.group(1)} {match.group(2)} GB\"\n",
    "    else:\n",
    "        return None\n",
    "\n",
    "# Apply the function to the \"Feature\" column and create a new column with the GPU information\n",
    "df['GPU'] = df['Feature'].apply(extract_gpu)\n",
    "df['GPU'].value_counts()"
   ]
  },
  {
   "cell_type": "code",
   "execution_count": 83,
   "id": "ab66522f",
   "metadata": {},
   "outputs": [
    {
     "data": {
      "text/plain": [
       "GPU\n",
       "Others    533\n",
       "AMD       156\n",
       "Intel      20\n",
       "NVIDIA     11\n",
       "Name: count, dtype: int64"
      ]
     },
     "execution_count": 83,
     "metadata": {},
     "output_type": "execute_result"
    }
   ],
   "source": [
    "regex_gpu = r'(NVIDIA|AMD|Intel)\\s[\\w\\s]+\\d{3,4}'\n",
    "\n",
    "# Function to extract GPU information from a string using regex\n",
    "def extract_gpu(text):\n",
    "    match = re.search(regex_gpu, text, re.IGNORECASE)\n",
    "    if match:\n",
    "        return match.group(1)\n",
    "    else:\n",
    "        return 'Others'\n",
    "\n",
    "# Apply the function to the \"Feature\" column and create a new column with the GPU information\n",
    "df['GPU'] = df['Feature'].apply(extract_gpu)\n",
    "df['GPU'].value_counts()"
   ]
  },
  {
   "cell_type": "code",
   "execution_count": 84,
   "id": "70fb9132",
   "metadata": {},
   "outputs": [
    {
     "data": {
      "text/plain": [
       "Warranty\n",
       "1 year warranty         479\n",
       "2 years warranty         85\n",
       "20212 years warranty     68\n",
       "20211 years warranty     41\n",
       "20191 years warranty     31\n",
       "20193 years warranty      4\n",
       "3 years warranty          4\n",
       "32 years warranty         3\n",
       "20192 years warranty      3\n",
       "3652 years warranty       1\n",
       "Name: count, dtype: int64"
      ]
     },
     "execution_count": 84,
     "metadata": {},
     "output_type": "execute_result"
    }
   ],
   "source": [
    "regex_warranty = r'(\\d+)\\s*(?:year|yr|y)(?:s)?'\n",
    "\n",
    "# Function to extract warranty information from a string using regex\n",
    "def extract_warranty(text):\n",
    "    match = re.search(regex_warranty, text, re.IGNORECASE)\n",
    "    if match:\n",
    "        years = int(match.group(1))\n",
    "        if years == 1:\n",
    "            return f\"{years} year warranty\"\n",
    "        elif years > 1:\n",
    "            return f\"{years} years warranty\"\n",
    "    else:\n",
    "        return None\n",
    "\n",
    "# Apply the function to the \"Feature\" column and create a new column with the warranty information\n",
    "df['Warranty'] = df['Feature'].apply(extract_warranty)\n",
    "df['Warranty'].value_counts()"
   ]
  },
  {
   "cell_type": "code",
   "execution_count": 85,
   "id": "213764cd",
   "metadata": {},
   "outputs": [],
   "source": [
    "df['Warranty'] = df['Warranty'].str.replace('1 year warranty','1')\n",
    "df['Warranty'] = df['Warranty'].str.replace('2 years warranty','2')\n",
    "df['Warranty'] = df['Warranty'].str.replace('20212 years warranty','2')\n",
    "df['Warranty'] = df['Warranty'].str.replace('20211 years warranty','1')\n",
    "df['Warranty'] = df['Warranty'].str.replace('20191 years warranty','1')\n",
    "df['Warranty'] = df['Warranty'].str.replace('20193 years warranty','3')\n",
    "df['Warranty'] = df['Warranty'].str.replace('3 years warranty','3')\n",
    "df['Warranty'] = df['Warranty'].str.replace('32 years warranty','2')\n",
    "df['Warranty'] = df['Warranty'].str.replace('20192 years warranty','2')\n",
    "df['Warranty'] = df['Warranty'].str.replace('3652 years warranty','2')"
   ]
  },
  {
   "cell_type": "code",
   "execution_count": 86,
   "id": "28c0f481",
   "metadata": {},
   "outputs": [
    {
     "data": {
      "text/plain": [
       "Warranty\n",
       "1        551\n",
       "2         85\n",
       "20212     68\n",
       "3          8\n",
       "32         3\n",
       "20192      3\n",
       "3652       1\n",
       "Name: count, dtype: int64"
      ]
     },
     "execution_count": 86,
     "metadata": {},
     "output_type": "execute_result"
    }
   ],
   "source": [
    "df.Warranty.value_counts()"
   ]
  },
  {
   "cell_type": "code",
   "execution_count": 89,
   "id": "e74093c6",
   "metadata": {},
   "outputs": [],
   "source": [
    "df['Warranty'] = df['Warranty'].str.replace('20212','2')\n",
    "df['Warranty'] = df['Warranty'].str.replace('32','2')\n",
    "df['Warranty'] = df['Warranty'].str.replace('20192','2')\n",
    "df['Warranty'] = df['Warranty'].str.replace('20212','2')\n",
    "df['Warranty'] = df['Warranty'].str.replace('3652','2')"
   ]
  },
  {
   "cell_type": "code",
   "execution_count": 90,
   "id": "81a540e0",
   "metadata": {},
   "outputs": [
    {
     "data": {
      "text/plain": [
       "Warranty\n",
       "1    551\n",
       "2    160\n",
       "3      8\n",
       "Name: count, dtype: int64"
      ]
     },
     "execution_count": 90,
     "metadata": {},
     "output_type": "execute_result"
    }
   ],
   "source": [
    "df.Warranty.value_counts()"
   ]
  },
  {
   "cell_type": "code",
   "execution_count": 91,
   "id": "e0c5289e",
   "metadata": {},
   "outputs": [
    {
     "data": {
      "text/plain": [
       "Warranty\n",
       "1    551\n",
       "2    168\n",
       "Name: count, dtype: int64"
      ]
     },
     "execution_count": 91,
     "metadata": {},
     "output_type": "execute_result"
    }
   ],
   "source": [
    "df['Warranty'] = df['Warranty'].str.replace('3','2')\n",
    "df.Warranty.value_counts()"
   ]
  },
  {
   "cell_type": "code",
   "execution_count": 93,
   "id": "758f3da4",
   "metadata": {},
   "outputs": [],
   "source": [
    "df.Warranty.fillna('2',inplace=True)"
   ]
  },
  {
   "cell_type": "code",
   "execution_count": 94,
   "id": "3d94d031",
   "metadata": {},
   "outputs": [
    {
     "data": {
      "text/plain": [
       "array(['2', '1'], dtype=object)"
      ]
     },
     "execution_count": 94,
     "metadata": {},
     "output_type": "execute_result"
    }
   ],
   "source": [
    "df.Warranty.unique()"
   ]
  },
  {
   "cell_type": "code",
   "execution_count": 95,
   "id": "a56bdd53",
   "metadata": {},
   "outputs": [],
   "source": [
    "regex = r'(\\d+(?:\\.\\d+)?)(?:\\s*inch|\"|\\'\\')'\n",
    "\n",
    "# Function to extract screen sizes from a string using regex\n",
    "\n",
    "def extract_screen_size(text):\n",
    "    match = re.search(regex, text)\n",
    "    if match:\n",
    "        return float(match.group(1))\n",
    "    else:\n",
    "        return None\n",
    "\n",
    "# Apply the function to the \"Feature\" column and create a new column with the screen sizes\n",
    "\n",
    "df['ScreenSize'] = df['Feature'].apply(extract_screen_size)"
   ]
  },
  {
   "cell_type": "code",
   "execution_count": 96,
   "id": "80214dc1",
   "metadata": {},
   "outputs": [
    {
     "data": {
      "text/plain": [
       "ScreenSize\n",
       "15.6        362\n",
       "14.0        103\n",
       "13.3          9\n",
       "16.0          6\n",
       "16.1          5\n",
       "16.2          5\n",
       "17.3          5\n",
       "14.1          4\n",
       "11.6          4\n",
       "15.0          4\n",
       "14.2          2\n",
       "13.0          1\n",
       "13.5          1\n",
       "16.6          1\n",
       "206015.6      1\n",
       "Name: count, dtype: int64"
      ]
     },
     "execution_count": 96,
     "metadata": {},
     "output_type": "execute_result"
    }
   ],
   "source": [
    "df.ScreenSize.value_counts()"
   ]
  },
  {
   "cell_type": "code",
   "execution_count": 97,
   "id": "e07e8a2a",
   "metadata": {},
   "outputs": [],
   "source": [
    "df['ScreenSize'] = df['ScreenSize'].astype('float64')"
   ]
  },
  {
   "cell_type": "code",
   "execution_count": 98,
   "id": "0357c016",
   "metadata": {},
   "outputs": [
    {
     "data": {
      "text/plain": [
       "ScreenSize\n",
       "15.6    389\n",
       "14.0    124\n",
       "Name: count, dtype: int64"
      ]
     },
     "execution_count": 98,
     "metadata": {},
     "output_type": "execute_result"
    }
   ],
   "source": [
    "df['ScreenSize'] = df['ScreenSize'].replace(16.0, 15.6)\n",
    "df['ScreenSize'] = df['ScreenSize'].replace(13.3, 14.0)\n",
    "df['ScreenSize'] = df['ScreenSize'].replace(16.1, 15.6)\n",
    "df['ScreenSize'] = df['ScreenSize'].replace(16.2, 15.6)\n",
    "df['ScreenSize'] = df['ScreenSize'].replace(17.3, 15.6)\n",
    "df['ScreenSize'] = df['ScreenSize'].replace(14.1, 14.0)\n",
    "df['ScreenSize'] = df['ScreenSize'].replace(11.6, 14.0)\n",
    "df['ScreenSize'] = df['ScreenSize'].replace(15.0, 15.6)\n",
    "df['ScreenSize'] = df['ScreenSize'].replace(14.2, 14.0)\n",
    "df['ScreenSize'] = df['ScreenSize'].replace(13.0, 14.0)\n",
    "df['ScreenSize'] = df['ScreenSize'].replace(16.6, 15.6)\n",
    "df['ScreenSize'] = df['ScreenSize'].replace(206015.6, 15.6)\n",
    "df['ScreenSize'] = df['ScreenSize'].replace(13.5, 14.0)\n",
    "df['ScreenSize'].value_counts()"
   ]
  },
  {
   "cell_type": "code",
   "execution_count": 99,
   "id": "8c1d6034",
   "metadata": {},
   "outputs": [
    {
     "data": {
      "text/plain": [
       "104    15.6\n",
       "695    14.0\n",
       "599    15.6\n",
       "209    15.6\n",
       "664    15.6\n",
       "Name: ScreenSize, dtype: float64"
      ]
     },
     "execution_count": 99,
     "metadata": {},
     "output_type": "execute_result"
    }
   ],
   "source": [
    "df['ScreenSize'].sample(5)"
   ]
  },
  {
   "cell_type": "code",
   "execution_count": 100,
   "id": "074ebb65",
   "metadata": {},
   "outputs": [],
   "source": [
    "df = df.rename(columns={'MRP': 'Price'})"
   ]
  },
  {
   "cell_type": "code",
   "execution_count": 102,
   "id": "ba17ba9a",
   "metadata": {},
   "outputs": [],
   "source": [
    "df = df[['Brand Name','OS','Ram Type','RAM','Processor','GPU','Warranty','ScreenSize','DISK SIZE', 'Price']]"
   ]
  },
  {
   "cell_type": "code",
   "execution_count": 103,
   "id": "3079de9d",
   "metadata": {},
   "outputs": [],
   "source": [
    "df.to_csv(\"cleaned.csv\")"
   ]
  },
  {
   "cell_type": "code",
   "execution_count": 104,
   "id": "a80cd6e7",
   "metadata": {},
   "outputs": [],
   "source": [
    "y = df.iloc[:,-1]"
   ]
  },
  {
   "cell_type": "code",
   "execution_count": 105,
   "id": "19c05124",
   "metadata": {},
   "outputs": [
    {
     "data": {
      "text/plain": [
       "0       36990.0\n",
       "1       39990.0\n",
       "2       32990.0\n",
       "3       49990.0\n",
       "4       49990.0\n",
       "         ...   \n",
       "715     23490.0\n",
       "716     73490.0\n",
       "717    194990.0\n",
       "718    125990.0\n",
       "719     50990.0\n",
       "Name: Price, Length: 720, dtype: float32"
      ]
     },
     "execution_count": 105,
     "metadata": {},
     "output_type": "execute_result"
    }
   ],
   "source": [
    "y"
   ]
  },
  {
   "cell_type": "code",
   "execution_count": 106,
   "id": "42e2e3c1",
   "metadata": {},
   "outputs": [],
   "source": [
    "y = np.log1p(y)"
   ]
  },
  {
   "cell_type": "code",
   "execution_count": 107,
   "id": "ee996cb5",
   "metadata": {},
   "outputs": [
    {
     "data": {
      "text/plain": [
       "0      10.518430\n",
       "1      10.596410\n",
       "2      10.403990\n",
       "3      10.819598\n",
       "4      10.819598\n",
       "         ...    \n",
       "715    10.064373\n",
       "716    11.204918\n",
       "717    12.180709\n",
       "718    11.743966\n",
       "719    10.839404\n",
       "Name: Price, Length: 720, dtype: float32"
      ]
     },
     "execution_count": 107,
     "metadata": {},
     "output_type": "execute_result"
    }
   ],
   "source": [
    "y"
   ]
  },
  {
   "cell_type": "code",
   "execution_count": 108,
   "id": "51c35e8d",
   "metadata": {},
   "outputs": [],
   "source": [
    "X_train, X_test, y_train, y_test = train_test_split(X, y, test_size=0.2, random_state=51)"
   ]
  },
  {
   "cell_type": "code",
   "execution_count": 109,
   "id": "8ee99e27",
   "metadata": {},
   "outputs": [
    {
     "data": {
      "text/html": [
       "<div>\n",
       "<style scoped>\n",
       "    .dataframe tbody tr th:only-of-type {\n",
       "        vertical-align: middle;\n",
       "    }\n",
       "\n",
       "    .dataframe tbody tr th {\n",
       "        vertical-align: top;\n",
       "    }\n",
       "\n",
       "    .dataframe thead th {\n",
       "        text-align: right;\n",
       "    }\n",
       "</style>\n",
       "<table border=\"1\" class=\"dataframe\">\n",
       "  <thead>\n",
       "    <tr style=\"text-align: right;\">\n",
       "      <th></th>\n",
       "      <th>Product</th>\n",
       "      <th>Rating</th>\n",
       "      <th>Feature</th>\n",
       "    </tr>\n",
       "  </thead>\n",
       "  <tbody>\n",
       "    <tr>\n",
       "      <th>135</th>\n",
       "      <td>Lenovo IdeaPad 1 Ryzen 5 Quad Core 3500U - (8 ...</td>\n",
       "      <td>4.2</td>\n",
       "      <td>AMD Ryzen 5 Quad Core Processor8 GB DDR4 RAM64...</td>\n",
       "    </tr>\n",
       "    <tr>\n",
       "      <th>548</th>\n",
       "      <td>HP Core i7 12th Gen - (32 GB/1 TB SSD/Windows ...</td>\n",
       "      <td>NaN</td>\n",
       "      <td>Intel Core i7 Processor (12th Gen)32 GB DDR5 R...</td>\n",
       "    </tr>\n",
       "    <tr>\n",
       "      <th>235</th>\n",
       "      <td>ASUS EeeBook 14 with NumberPad Pentium Silver ...</td>\n",
       "      <td>4.1</td>\n",
       "      <td>Intel Pentium Silver Processor8 GB DDR4 RAM64 ...</td>\n",
       "    </tr>\n",
       "    <tr>\n",
       "      <th>39</th>\n",
       "      <td>ASUS Vivobook 14 (2022) Core i5 12th Gen - (16...</td>\n",
       "      <td>4.7</td>\n",
       "      <td>Intel Core i5 Processor (12th Gen)16 GB DDR4 R...</td>\n",
       "    </tr>\n",
       "    <tr>\n",
       "      <th>554</th>\n",
       "      <td>HP Laptop with Backlit Keyboard Core i3 11th G...</td>\n",
       "      <td>4.3</td>\n",
       "      <td>Intel Core i3 Processor (11th Gen)8 GB DDR4 RA...</td>\n",
       "    </tr>\n",
       "  </tbody>\n",
       "</table>\n",
       "</div>"
      ],
      "text/plain": [
       "                                               Product  Rating   \n",
       "135  Lenovo IdeaPad 1 Ryzen 5 Quad Core 3500U - (8 ...     4.2  \\\n",
       "548  HP Core i7 12th Gen - (32 GB/1 TB SSD/Windows ...     NaN   \n",
       "235  ASUS EeeBook 14 with NumberPad Pentium Silver ...     4.1   \n",
       "39   ASUS Vivobook 14 (2022) Core i5 12th Gen - (16...     4.7   \n",
       "554  HP Laptop with Backlit Keyboard Core i3 11th G...     4.3   \n",
       "\n",
       "                                               Feature  \n",
       "135  AMD Ryzen 5 Quad Core Processor8 GB DDR4 RAM64...  \n",
       "548  Intel Core i7 Processor (12th Gen)32 GB DDR5 R...  \n",
       "235  Intel Pentium Silver Processor8 GB DDR4 RAM64 ...  \n",
       "39   Intel Core i5 Processor (12th Gen)16 GB DDR4 R...  \n",
       "554  Intel Core i3 Processor (11th Gen)8 GB DDR4 RA...  "
      ]
     },
     "execution_count": 109,
     "metadata": {},
     "output_type": "execute_result"
    }
   ],
   "source": [
    "X_train.head()"
   ]
  },
  {
   "cell_type": "code",
   "execution_count": 114,
   "id": "6243457d",
   "metadata": {},
   "outputs": [],
   "source": [
    "import pickle\n",
    "\n",
    "pickle.dump(df,open('df.pkl','wb'))\n",
    "pickle.dump(pipe2,open('pipe.pkl','wb'))"
   ]
  },
  {
   "cell_type": "code",
   "execution_count": null,
   "id": "51462242",
   "metadata": {},
   "outputs": [],
   "source": []
  }
 ],
 "metadata": {
  "kernelspec": {
   "display_name": "Python 3 (ipykernel)",
   "language": "python",
   "name": "python3"
  },
  "language_info": {
   "codemirror_mode": {
    "name": "ipython",
    "version": 3
   },
   "file_extension": ".py",
   "mimetype": "text/x-python",
   "name": "python",
   "nbconvert_exporter": "python",
   "pygments_lexer": "ipython3",
   "version": "3.10.9"
  }
 },
 "nbformat": 4,
 "nbformat_minor": 5
}
